{
 "cells": [
  {
   "cell_type": "markdown",
   "metadata": {
    "deletable": true,
    "editable": true
   },
   "source": [
    "# Publications markdown generator for academicpages\n",
    "\n",
    "Takes a TSV of publications with metadata and converts them for use with [academicpages.github.io](academicpages.github.io). This is an interactive Jupyter notebook ([see more info here](http://jupyter-notebook-beginner-guide.readthedocs.io/en/latest/what_is_jupyter.html)). The core python code is also in `publications.py`. Run either from the `markdown_generator` folder after replacing `publications.tsv` with one containing your data.\n",
    "\n",
    "TODO: Make this work with BibTex and other databases of citations, rather than Stuart's non-standard TSV format and citation style.\n"
   ]
  },
  {
   "cell_type": "markdown",
   "metadata": {},
   "source": [
    "## Data format\n",
    "\n",
    "The TSV needs to have the following columns: pub_date, title, venue, excerpt, citation, site_url, and paper_url, with a header at the top. \n",
    "\n",
    "- `excerpt` and `paper_url` can be blank, but the others must have values. \n",
    "- `pub_date` must be formatted as YYYY-MM-DD.\n",
    "- `url_slug` will be the descriptive part of the .md file and the permalink URL for the page about the paper. The .md file will be `YYYY-MM-DD-[url_slug].md` and the permalink will be `https://[yourdomain]/publications/YYYY-MM-DD-[url_slug]`\n",
    "\n",
    "This is how the raw file looks (it doesn't look pretty, use a spreadsheet or other program to edit and create)."
   ]
  },
  {
   "cell_type": "code",
   "execution_count": 1,
   "metadata": {
    "collapsed": false
   },
   "outputs": [
    {
     "name": "stdout",
     "output_type": "stream",
     "text": [
      "pub_date\ttitle\tvenue\texcerpt\tcitation\turl_slug\tpaper_url\tslides_url\n",
      "1/7/2024\tExploring Scaffolding Techniques for Agent-Administered Brief Cognitive Screening in Hospital Settings\tDIS '24 Companion\t\"This study explores effective scaffolding strategies used by clinicians to assist in cognitive screening of hospitalized older patients, highlighting six key strategies identified through empirical research on the Abbreviated Mental Test (AMT) process, with implications for designing conversational agents in this context.\"\t\"Dingdong Liu, Sensen Gao, Zixin Chen, Yifan Shen, Chuhan Shi, Bertram E. Shi, and Xiaojuan Ma. 2024. Exploring Scaffolding Techniques for Agent-Administered Brief Cognitive Screening in Hospital Settings. In Companion Publication of the 2024 ACM Designing Interactive Systems Conference (DIS '24 Companion). Association for Computing Machinery, New York, NY, USA, 185-189. https://doi.org/10.1145/3656156.3663697\"\tDIS24-Scaffolding\thttps://dingdong-liu.github.io/files/DIS24-Scaffolding.pdf\thttps://dingdong-liu.github.io/files/DIS24_Poster_Large.pdf\n",
      "19/4/2024\tCoArgue : Fostering Lurkers' Contribution to Collective Arguments in Community-based QA Platforms\tCHI' 23\t\"This research investigates obstacles hindering lurkers from contributing to collective arguments in Community-Based Question Answering (CQA) platforms, leading to the development of CoArgue, a tool designed to enhance lurkers' motivation and ability to participate in discussions by extracting and summarizing augmentative elements from question threads, resulting in a more engaging and productive experience compared to a Quora-like baseline, as demonstrated in a within-subject study involving 24 participants.\"\t\"Chengzhong Liu, Shixu Zhou, Dingdong Liu, Junze Li, Zeyu Huang, and Xiaojuan Ma. 2023. CoArgue_: Fostering Lurkers' Contribution to Collective Arguments in Community-based QA Platforms. In Proceedings of the 2023 CHI Conference on Human Factors in Computing Systems (CHI '23). Association for Computing Machinery, New York, NY, USA, Article 271, 1-17. https://doi.org/10.1145/3544548.3580932\"\tCHI23-CoArgue\thttps://dl.acm.org/doi/10.1145/3544548.3580932\t\n",
      "13/6/2024\tExploring the Effects of Self-Mockery to Improve Task-Oriented Chatbot's Social Intelligence\tDIS' 22\t\"This study explores the impact of self-mockery humor on a customer service chatbot's Social Intelligence (SI) by proposing a pipeline for incorporating situated self-mockery in different interaction stages. Through a within-subject experiment involving 28 participants, the self-mockery chatbot was found to be significantly funnier, more satisfactory, and to perform better in certain aspects of SI compared to a chatbot without self-mockery utterances. The study also discusses individual factors influencing the perceived helpfulness of self-mockery on SI and provides design considerations based on the findings.\"\t\"Chengzhong Liu, Shixu Zhou, Yuanhao Zhang, Dingdong Liu, Zhenhui Peng, and Xiaojuan Ma. 2022. Exploring the Effects of Self-Mockery to Improve Task-Oriented Chatbot's Social Intelligence. In Proceedings of the 2022 ACM Designing Interactive Systems Conference (DIS '22). Association for Computing Machinery, New York, NY, USA, 1315-1329. https://doi.org/10.1145/3532106.3533461\"\tDIS22-Self-Mockery\thttps://dl.acm.org/doi/10.1145/3532106.3533461\t\n",
      "22/11/2022\tPlanHelper: Supporting Activity Plan Construction with Answer Posts in Community-based QA Platforms\tCSCW '22\t\"This study addresses challenges in using answer posts from Community-based Question Answering (CQA) platforms for constructing Activity Plans (AP). By proposing an answer-post processing pipeline and developing PlanHelper, users were found to be significantly more satisfied with informational support and more engaged when creating AP compared to a Quora-like baseline in a within-subject study involving 24 participants. The research also includes an analysis of user behaviors with PlanHelper and provides design considerations for similar supporting tools.\"\t\"Chengzhong Liu, Zeyu Huang, Dingdong Liu, Shixu Zhou, Zhenhui Peng, and Xiaojuan Ma. 2022. PlanHelper: Supporting Activity Plan Construction with Answer Posts in Community-based QA Platforms. Proc. ACM Hum.-Comput. Interact. 6, CSCW2, Article 454 (November 2022), 26 pages. https://doi.org/10.1145/3555555\"\tCSCW22-PlanHelper\thttps://dl.acm.org/doi/10.1145/3555555\t"
     ]
    }
   ],
   "source": [
    "!cat publications.tsv"
   ]
  },
  {
   "cell_type": "markdown",
   "metadata": {},
   "source": [
    "## Import pandas\n",
    "\n",
    "We are using the very handy pandas library for dataframes."
   ]
  },
  {
   "cell_type": "code",
   "execution_count": 2,
   "metadata": {
    "collapsed": true,
    "deletable": true,
    "editable": true
   },
   "outputs": [],
   "source": [
    "import pandas as pd"
   ]
  },
  {
   "cell_type": "markdown",
   "metadata": {},
   "source": [
    "## Import TSV\n",
    "\n",
    "Pandas makes this easy with the read_csv function. We are using a TSV, so we specify the separator as a tab, or `\\t`.\n",
    "\n",
    "I found it important to put this data in a tab-separated values format, because there are a lot of commas in this kind of data and comma-separated values can get messed up. However, you can modify the import statement, as pandas also has read_excel(), read_json(), and others."
   ]
  },
  {
   "cell_type": "code",
   "execution_count": 3,
   "metadata": {
    "collapsed": false,
    "deletable": true,
    "editable": true
   },
   "outputs": [
    {
     "data": {
      "text/html": [
       "<div>\n",
       "<style scoped>\n",
       "    .dataframe tbody tr th:only-of-type {\n",
       "        vertical-align: middle;\n",
       "    }\n",
       "\n",
       "    .dataframe tbody tr th {\n",
       "        vertical-align: top;\n",
       "    }\n",
       "\n",
       "    .dataframe thead th {\n",
       "        text-align: right;\n",
       "    }\n",
       "</style>\n",
       "<table border=\"1\" class=\"dataframe\">\n",
       "  <thead>\n",
       "    <tr style=\"text-align: right;\">\n",
       "      <th></th>\n",
       "      <th>pub_date</th>\n",
       "      <th>title</th>\n",
       "      <th>venue</th>\n",
       "      <th>excerpt</th>\n",
       "      <th>citation</th>\n",
       "      <th>url_slug</th>\n",
       "      <th>paper_url</th>\n",
       "      <th>slides_url</th>\n",
       "    </tr>\n",
       "  </thead>\n",
       "  <tbody>\n",
       "    <tr>\n",
       "      <th>0</th>\n",
       "      <td>1/7/2024</td>\n",
       "      <td>Exploring Scaffolding Techniques for Agent-Adm...</td>\n",
       "      <td>DIS '24 Companion</td>\n",
       "      <td>This study explores effective scaffolding stra...</td>\n",
       "      <td>Dingdong Liu, Sensen Gao, Zixin Chen, Yifan Sh...</td>\n",
       "      <td>DIS24-Scaffolding</td>\n",
       "      <td>https://dingdong-liu.github.io/files/DIS24-Sca...</td>\n",
       "      <td>https://dingdong-liu.github.io/files/DIS24_Pos...</td>\n",
       "    </tr>\n",
       "    <tr>\n",
       "      <th>1</th>\n",
       "      <td>19/4/2024</td>\n",
       "      <td>CoArgue : Fostering Lurkers' Contribution to C...</td>\n",
       "      <td>CHI' 23</td>\n",
       "      <td>This research investigates obstacles hindering...</td>\n",
       "      <td>Chengzhong Liu, Shixu Zhou, Dingdong Liu, Junz...</td>\n",
       "      <td>CHI23-CoArgue</td>\n",
       "      <td>https://dl.acm.org/doi/10.1145/3544548.3580932</td>\n",
       "      <td>NaN</td>\n",
       "    </tr>\n",
       "    <tr>\n",
       "      <th>2</th>\n",
       "      <td>13/6/2024</td>\n",
       "      <td>Exploring the Effects of Self-Mockery to Impro...</td>\n",
       "      <td>DIS' 22</td>\n",
       "      <td>This study explores the impact of self-mockery...</td>\n",
       "      <td>Chengzhong Liu, Shixu Zhou, Yuanhao Zhang, Din...</td>\n",
       "      <td>DIS22-Self-Mockery</td>\n",
       "      <td>https://dl.acm.org/doi/10.1145/3532106.3533461</td>\n",
       "      <td>NaN</td>\n",
       "    </tr>\n",
       "    <tr>\n",
       "      <th>3</th>\n",
       "      <td>22/11/2022</td>\n",
       "      <td>PlanHelper: Supporting Activity Plan Construct...</td>\n",
       "      <td>CSCW '22</td>\n",
       "      <td>This study addresses challenges in using answe...</td>\n",
       "      <td>Chengzhong Liu, Zeyu Huang, Dingdong Liu, Shix...</td>\n",
       "      <td>CSCW22-PlanHelper</td>\n",
       "      <td>https://dl.acm.org/doi/10.1145/3555555</td>\n",
       "      <td>NaN</td>\n",
       "    </tr>\n",
       "  </tbody>\n",
       "</table>\n",
       "</div>"
      ],
      "text/plain": [
       "     pub_date                                              title  \\\n",
       "0    1/7/2024  Exploring Scaffolding Techniques for Agent-Adm...   \n",
       "1   19/4/2024  CoArgue : Fostering Lurkers' Contribution to C...   \n",
       "2   13/6/2024  Exploring the Effects of Self-Mockery to Impro...   \n",
       "3  22/11/2022  PlanHelper: Supporting Activity Plan Construct...   \n",
       "\n",
       "               venue                                            excerpt  \\\n",
       "0  DIS '24 Companion  This study explores effective scaffolding stra...   \n",
       "1            CHI' 23  This research investigates obstacles hindering...   \n",
       "2            DIS' 22  This study explores the impact of self-mockery...   \n",
       "3           CSCW '22  This study addresses challenges in using answe...   \n",
       "\n",
       "                                            citation            url_slug  \\\n",
       "0  Dingdong Liu, Sensen Gao, Zixin Chen, Yifan Sh...   DIS24-Scaffolding   \n",
       "1  Chengzhong Liu, Shixu Zhou, Dingdong Liu, Junz...       CHI23-CoArgue   \n",
       "2  Chengzhong Liu, Shixu Zhou, Yuanhao Zhang, Din...  DIS22-Self-Mockery   \n",
       "3  Chengzhong Liu, Zeyu Huang, Dingdong Liu, Shix...   CSCW22-PlanHelper   \n",
       "\n",
       "                                           paper_url  \\\n",
       "0  https://dingdong-liu.github.io/files/DIS24-Sca...   \n",
       "1     https://dl.acm.org/doi/10.1145/3544548.3580932   \n",
       "2     https://dl.acm.org/doi/10.1145/3532106.3533461   \n",
       "3             https://dl.acm.org/doi/10.1145/3555555   \n",
       "\n",
       "                                          slides_url  \n",
       "0  https://dingdong-liu.github.io/files/DIS24_Pos...  \n",
       "1                                                NaN  \n",
       "2                                                NaN  \n",
       "3                                                NaN  "
      ]
     },
     "execution_count": 3,
     "metadata": {},
     "output_type": "execute_result"
    }
   ],
   "source": [
    "publications = pd.read_csv(\"publications.tsv\", sep=\"\\t\", header=0)\n",
    "publications\n"
   ]
  },
  {
   "cell_type": "markdown",
   "metadata": {},
   "source": [
    "## Escape special characters\n",
    "\n",
    "YAML is very picky about how it takes a valid string, so we are replacing single and double quotes (and ampersands) with their HTML encoded equivilents. This makes them look not so readable in raw format, but they are parsed and rendered nicely."
   ]
  },
  {
   "cell_type": "code",
   "execution_count": 4,
   "metadata": {
    "collapsed": true,
    "deletable": true,
    "editable": true
   },
   "outputs": [],
   "source": [
    "html_escape_table = {\n",
    "    \"&\": \"&amp;\",\n",
    "    '\"': \"&quot;\",\n",
    "    \"'\": \"&apos;\"\n",
    "    }\n",
    "\n",
    "def html_escape(text):\n",
    "    \"\"\"Produce entities within text.\"\"\"\n",
    "    return \"\".join(html_escape_table.get(c,c) for c in text)"
   ]
  },
  {
   "cell_type": "markdown",
   "metadata": {},
   "source": [
    "## Creating the markdown files\n",
    "\n",
    "This is where the heavy lifting is done. This loops through all the rows in the TSV dataframe, then starts to concatentate a big string (```md```) that contains the markdown for each type. It does the YAML metadata first, then does the description for the individual page."
   ]
  },
  {
   "cell_type": "code",
   "execution_count": 5,
   "metadata": {
    "collapsed": false,
    "deletable": true,
    "editable": true
   },
   "outputs": [],
   "source": [
    "import os\n",
    "for row, item in publications.iterrows():\n",
    "    \n",
    "    md_filename = str(item.pub_date) + \"-\" + item.url_slug + \".md\"\n",
    "    html_filename = str(item.pub_date) + \"-\" + item.url_slug\n",
    "    year = item.pub_date[:4]\n",
    "    \n",
    "    ## YAML variables\n",
    "    \n",
    "    md = \"---\\ntitle: \\\"\"   + item.title + '\"\\n'\n",
    "    \n",
    "    md += \"\"\"collection: publications\"\"\"\n",
    "    \n",
    "    md += \"\"\"\\npermalink: /publication/\"\"\" + html_filename\n",
    "    \n",
    "    if len(str(item.excerpt)) > 5:\n",
    "        md += \"\\nexcerpt: '\" + html_escape(item.excerpt) + \"'\"\n",
    "    \n",
    "    md += \"\\ndate: \" + str(item.pub_date) \n",
    "    \n",
    "    md += \"\\nvenue: '\" + html_escape(item.venue) + \"'\"\n",
    "    \n",
    "    if len(str(item.slides_url)) > 5:\n",
    "        md += \"\\nslidesurl: '\" + item.slides_url + \"'\"\n",
    "\n",
    "    if len(str(item.paper_url)) > 5:\n",
    "        md += \"\\npaperurl: '\" + item.paper_url + \"'\"\n",
    "    \n",
    "    md += \"\\ncitation: '\" + html_escape(item.citation) + \"'\"\n",
    "    \n",
    "    md += \"\\n---\"\n",
    "    \n",
    "    ## Markdown description for individual page\n",
    "        \n",
    "    if len(str(item.excerpt)) > 5:\n",
    "        md += \"\\n\" + html_escape(item.excerpt) + \"\\n\"\n",
    "\n",
    "    if len(str(item.slides_url)) > 5:\n",
    "        md += \"\\n[Download slides here](\" + item.slides_url + \")\\n\" \n",
    "\n",
    "    if len(str(item.paper_url)) > 5:\n",
    "        md += \"\\n[Download paper here](\" + item.paper_url + \")\\n\" \n",
    "        \n",
    "    md += \"\\nRecommended citation: \" + item.citation\n",
    "    \n",
    "    md_filename = os.path.basename(md_filename)\n",
    "       \n",
    "    with open(\"../_publications/\" + md_filename, 'w') as f:\n",
    "        f.write(md)"
   ]
  },
  {
   "cell_type": "markdown",
   "metadata": {},
   "source": [
    "These files are in the publications directory, one directory below where we're working from."
   ]
  },
  {
   "cell_type": "code",
   "execution_count": 6,
   "metadata": {
    "collapsed": false,
    "deletable": true,
    "editable": true
   },
   "outputs": [
    {
     "name": "stdout",
     "output_type": "stream",
     "text": [
      "2022-CSCW22-PlanHelper.md  2024-DIS22-Self-Mockery.md\n",
      "2024-CHI23-CoArgue.md      2024-DIS24-Scaffolding.md\n"
     ]
    }
   ],
   "source": [
    "!ls ../_publications/"
   ]
  },
  {
   "cell_type": "code",
   "execution_count": 7,
   "metadata": {
    "collapsed": false,
    "deletable": true,
    "editable": true
   },
   "outputs": [
    {
     "name": "stdout",
     "output_type": "stream",
     "text": [
      "cat: ../_publications/2009-10-01-paper-title-number-1.md: No such file or directory\n"
     ]
    }
   ],
   "source": [
    "!cat ../_publications/2009-10-01-paper-title-number-1.md"
   ]
  },
  {
   "cell_type": "code",
   "execution_count": null,
   "metadata": {
    "collapsed": true,
    "deletable": true,
    "editable": true
   },
   "outputs": [],
   "source": []
  }
 ],
 "metadata": {
  "kernelspec": {
   "display_name": "Python 3",
   "language": "python",
   "name": "python3"
  },
  "language_info": {
   "codemirror_mode": {
    "name": "ipython",
    "version": 3
   },
   "file_extension": ".py",
   "mimetype": "text/x-python",
   "name": "python",
   "nbconvert_exporter": "python",
   "pygments_lexer": "ipython3",
   "version": "3.11.5"
  }
 },
 "nbformat": 4,
 "nbformat_minor": 0
}
