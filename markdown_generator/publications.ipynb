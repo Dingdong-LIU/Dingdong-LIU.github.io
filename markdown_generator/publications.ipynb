{
 "cells": [
  {
   "cell_type": "markdown",
   "metadata": {
    "deletable": true,
    "editable": true
   },
   "source": [
    "# Publications markdown generator for academicpages\n",
    "\n",
    "Takes a TSV of publications with metadata and converts them for use with [academicpages.github.io](academicpages.github.io). This is an interactive Jupyter notebook ([see more info here](http://jupyter-notebook-beginner-guide.readthedocs.io/en/latest/what_is_jupyter.html)). The core python code is also in `publications.py`. Run either from the `markdown_generator` folder after replacing `publications.tsv` with one containing your data.\n",
    "\n",
    "TODO: Make this work with BibTex and other databases of citations, rather than Stuart's non-standard TSV format and citation style.\n"
   ]
  },
  {
   "cell_type": "markdown",
   "metadata": {},
   "source": [
    "## Data format\n",
    "\n",
    "The TSV needs to have the following columns: pub_date, title, venue, excerpt, citation, site_url, and paper_url, with a header at the top. \n",
    "\n",
    "- `excerpt` and `paper_url` can be blank, but the others must have values. \n",
    "- `pub_date` must be formatted as YYYY-MM-DD.\n",
    "- `url_slug` will be the descriptive part of the .md file and the permalink URL for the page about the paper. The .md file will be `YYYY-MM-DD-[url_slug].md` and the permalink will be `https://[yourdomain]/publications/YYYY-MM-DD-[url_slug]`\n",
    "\n",
    "This is how the raw file looks (it doesn't look pretty, use a spreadsheet or other program to edit and create)."
   ]
  },
  {
   "cell_type": "code",
   "execution_count": 1,
   "metadata": {
    "collapsed": false
   },
   "outputs": [
    {
     "name": "stdout",
     "output_type": "stream",
     "text": [
      "pub_date\ttitle\tvenue\texcerpt\tcitation\turl_slug\tpaper_url\tslides_url\n",
      "1/7/2024\tExploring Scaffolding Techniques for Agent-Administered Brief Cognitive Screening in Hospital Settings\tDIS '24 Companion\t\"This study explores effective scaffolding strategies used by clinicians to assist in cognitive screening of hospitalized older patients, highlighting six key strategies identified through empirical research on the Abbreviated Mental Test (AMT) process, with implications for designing conversational agents in this context.\"\t\"Dingdong Liu, Sensen Gao, Zixin Chen, Yifan Shen, Chuhan Shi, Bertram E. Shi, and Xiaojuan Ma. 2024. Exploring Scaffolding Techniques for Agent-Administered Brief Cognitive Screening in Hospital Settings. In Companion Publication of the 2024 ACM Designing Interactive Systems Conference (DIS '24 Companion). Association for Computing Machinery, New York, NY, USA, 185-189. https://doi.org/10.1145/3656156.3663697\"\tDIS24-Scaffolding\thttps://dingdong-liu.github.io/files/DIS24-Scaffolding.pdf\thttps://dingdong-liu.github.io/files/DIS24_Poster_Large.pdf\n",
      "19/4/2023\tCoArgue : Fostering Lurkers' Contribution to Collective Arguments in Community-based QA Platforms\tCHI' 23\t\"This research investigates obstacles hindering lurkers from contributing to collective arguments in Community-Based Question Answering (CQA) platforms, leading to the development of CoArgue, a tool designed to enhance lurkers' motivation and ability to participate in discussions by extracting and summarizing augmentative elements from question threads, resulting in a more engaging and productive experience compared to a Quora-like baseline, as demonstrated in a within-subject study involving 24 participants.\"\t\"Chengzhong Liu, Shixu Zhou, Dingdong Liu, Junze Li, Zeyu Huang, and Xiaojuan Ma. 2023. CoArgue_: Fostering Lurkers' Contribution to Collective Arguments in Community-based QA Platforms. In Proceedings of the 2023 CHI Conference on Human Factors in Computing Systems (CHI '23). Association for Computing Machinery, New York, NY, USA, Article 271, 1-17. https://doi.org/10.1145/3544548.3580932\"\tCHI23-CoArgue\thttps://dl.acm.org/doi/10.1145/3544548.3580932\t\n",
      "13/6/2022\tExploring the Effects of Self-Mockery to Improve Task-Oriented Chatbot's Social Intelligence\tDIS' 22\t\"This study explores the impact of self-mockery humor on a customer service chatbot's Social Intelligence (SI) by proposing a pipeline for incorporating situated self-mockery in different interaction stages. Through a within-subject experiment involving 28 participants, the self-mockery chatbot was found to be significantly funnier, more satisfactory, and to perform better in certain aspects of SI compared to a chatbot without self-mockery utterances. The study also discusses individual factors influencing the perceived helpfulness of self-mockery on SI and provides design considerations based on the findings.\"\t\"Chengzhong Liu, Shixu Zhou, Yuanhao Zhang, Dingdong Liu, Zhenhui Peng, and Xiaojuan Ma. 2022. Exploring the Effects of Self-Mockery to Improve Task-Oriented Chatbot's Social Intelligence. In Proceedings of the 2022 ACM Designing Interactive Systems Conference (DIS '22). Association for Computing Machinery, New York, NY, USA, 1315-1329. https://doi.org/10.1145/3532106.3533461\"\tDIS22-Self-Mockery\thttps://dl.acm.org/doi/10.1145/3532106.3533461\t\n",
      "22/11/2022\tPlanHelper: Supporting Activity Plan Construction with Answer Posts in Community-based QA Platforms\tCSCW '22\t\"This study addresses challenges in using answer posts from Community-based Question Answering (CQA) platforms for constructing Activity Plans (AP). By proposing an answer-post processing pipeline and developing PlanHelper, users were found to be significantly more satisfied with informational support and more engaged when creating AP compared to a Quora-like baseline in a within-subject study involving 24 participants. The research also includes an analysis of user behaviors with PlanHelper and provides design considerations for similar supporting tools.\"\t\"Chengzhong Liu, Zeyu Huang, Dingdong Liu, Shixu Zhou, Zhenhui Peng, and Xiaojuan Ma. 2022. PlanHelper: Supporting Activity Plan Construction with Answer Posts in Community-based QA Platforms. Proc. ACM Hum.-Comput. Interact. 6, CSCW2, Article 454 (November 2022), 26 pages. https://doi.org/10.1145/3555555\"\tCSCW22-PlanHelper\thttps://dl.acm.org/doi/10.1145/3555555\t\n",
      "16/7/2024\tA Humanoid Robot Dialogue System Architecture Targeting Patient Interview Tasks\tROMAN '24\t\"The project focuses on enhancing humanoid robots' performance in conducting patient interviews by developing a dialogue system architecture. Humanoid robots offer a unique advantage in utilizing verbal and behavioral cues during interviews. However, the human-like appearance can create expectations of human-level performance, leading to interaction quality degradation if not met. The project introduces a dialogue system architecture that includes a nested inner real-time control loop to enhance the robot's responsiveness based on the concept of \"\"stance.\"\" This architecture also expands the dialogue state to monitor task progress and human engagement. Experiments with the proposed architecture demonstrate improved performance in terms of response timeliness and user impressions during patient interviews.\"\t\"Yifan SHEN*, Dingdong Liu, Yejin Bang, Ho Shu Chan, Rita Frieske, Hoo Choun CHUNG, Jay Patrick Monton Nieles, Tianjia ZHANG, Trung Kien Pham, Wai Yi Rosita CHENG, YINI FANG, Qifeng Chen, Pascale FUNG, Xiaojuan Ma, Bertram Emil Shi\"\tROMAN24-DialogueArchitecture\thttps://dingdong-liu.github.io/files/ROMAN24-DialogueArchitecture.pdf\t\n",
      "29/4/2025\tInsightBridge: Enhancing Empathizing with Users through Real-Time Information Synthesis and Visual Communication\tCHI' 25\t\"This project introduces InsightBridge, an AI-assisted tool that supports researchers during early-stage user interviews by automatically synthesizing conversation data into empathy maps. The system enables researchers to generate visual abstracts representing key information, which can be verified with users in real-time to refine understanding. Evaluation through a within-subject study (N=32) demonstrated that InsightBridge enhances note-taking efficiency, improves mutual understanding between researchers and users, and helps uncover overlooked details through visual-based verification discussions.\"\t\"Junze Li, Yue Zhang, Chengbo Zheng, Dingdong Liu, Zeyu Huang, and Xiaojuan Ma. 2025. InsightBridge: Enhancing Empathizing with Users through Real-Time Information Synthesis and Visual Communication. In Proceedings of the 2025 CHI Conference on Human Factors in Computing Systems (CHI '25). Association for Computing Machinery, New York, NY, USA, Article 167, 1–15. https://doi.org/10.1145/3706598.3713640\"\tCHI25-InsightBridge\thttps://dl.acm.org/doi/10.1145/3706598.3713640\t\n",
      "30/4/2025\tScaffolded Turns and Logical Conversations: Designing Humanized LLM-Powered Conversational Agents for Hospital Admission Interviews\tCHI' 25\t\"This project develops a more humanized LLM-powered conversational agent for hospital admission interviews that addresses the challenges of nurse shortages and time constraints. The system implements clinician-derived communication strategies through dynamic topic management with graph-based conversation flows and context-aware scaffolding using few-shot prompt tuning. Technical evaluation showed performance comparable to or exceeding human-written ground truth while outperforming prompt-engineered baselines, and a between-subject study (N=44) demonstrated significant improvements in user experience and data collection accuracy compared to existing solutions. The work contributes a framework for translating clinician expertise into algorithmic strategies for medical conversational agents, along with insights for balancing efficiency and empathy in healthcare interactions.\"\t\"Dingdong Liu, Yujing Zhang, Bolin Zhao, Shuai Ma, Chuhan Shi, and Xiaojuan Ma. 2025. Scaffolded Turns and Logical Conversations: Designing Humanized LLM-Powered Conversational Agents for Hospital Admission Interviews. In Proceedings of the 2025 CHI Conference on Human Factors in Computing Systems (CHI '25). Association for Computing Machinery, New York, NY, USA, Article 643, 1–23. https://doi.org/10.1145/3706598.3714196\"\tCHI25-PAF\thttps://dl.acm.org/doi/10.1145/3706598.3714196\t\n",
      "26/8/2025\tDynamic Prompting Improves Turn-taking in Embodied Spoken Dialogue Systems\tROMAN' 25\t\"A humanoid-robot SDS improves turn-taking by dynamically adjusting prompts to an audio LLM based on real-time floor perception (who’s speaking/listening). The LLM’s output drives both speech and floor-state updates, letting the system signal its stance. In robot interviews, this dynamic prompting outperformed static prompts: more accurate floor transitions, better signaling, fewer interruptions, smoother dialogue\"\t\"Yifan Shen, Dingdong Liu, Xiaoyu Mo, Fugee Tsung, Xiaojuan Ma, Bertram E. Shi\"\tROMAN25-TurnTaking\thttps://dingdong-liu.github.io/files/ROMAN25-TurnTaking.pdf\t"
     ]
    }
   ],
   "source": [
    "!cat publications.tsv"
   ]
  },
  {
   "cell_type": "markdown",
   "metadata": {},
   "source": [
    "## Import pandas\n",
    "\n",
    "We are using the very handy pandas library for dataframes."
   ]
  },
  {
   "cell_type": "code",
   "execution_count": 2,
   "metadata": {
    "collapsed": true,
    "deletable": true,
    "editable": true
   },
   "outputs": [],
   "source": [
    "import pandas as pd"
   ]
  },
  {
   "cell_type": "markdown",
   "metadata": {},
   "source": [
    "## Import TSV\n",
    "\n",
    "Pandas makes this easy with the read_csv function. We are using a TSV, so we specify the separator as a tab, or `\\t`.\n",
    "\n",
    "I found it important to put this data in a tab-separated values format, because there are a lot of commas in this kind of data and comma-separated values can get messed up. However, you can modify the import statement, as pandas also has read_excel(), read_json(), and others."
   ]
  },
  {
   "cell_type": "code",
   "execution_count": 3,
   "metadata": {
    "collapsed": false,
    "deletable": true,
    "editable": true
   },
   "outputs": [
    {
     "data": {
      "application/vnd.microsoft.datawrangler.viewer.v0+json": {
       "columns": [
        {
         "name": "index",
         "rawType": "int64",
         "type": "integer"
        },
        {
         "name": "pub_date",
         "rawType": "object",
         "type": "string"
        },
        {
         "name": "title",
         "rawType": "object",
         "type": "string"
        },
        {
         "name": "venue",
         "rawType": "object",
         "type": "string"
        },
        {
         "name": "excerpt",
         "rawType": "object",
         "type": "string"
        },
        {
         "name": "citation",
         "rawType": "object",
         "type": "string"
        },
        {
         "name": "url_slug",
         "rawType": "object",
         "type": "string"
        },
        {
         "name": "paper_url",
         "rawType": "object",
         "type": "string"
        },
        {
         "name": "slides_url",
         "rawType": "object",
         "type": "unknown"
        }
       ],
       "ref": "49f16619-6aa0-4443-b600-c40f990d2843",
       "rows": [
        [
         "0",
         "1/7/2024",
         "Exploring Scaffolding Techniques for Agent-Administered Brief Cognitive Screening in Hospital Settings",
         "DIS '24 Companion",
         "This study explores effective scaffolding strategies used by clinicians to assist in cognitive screening of hospitalized older patients, highlighting six key strategies identified through empirical research on the Abbreviated Mental Test (AMT) process, with implications for designing conversational agents in this context.",
         "Dingdong Liu, Sensen Gao, Zixin Chen, Yifan Shen, Chuhan Shi, Bertram E. Shi, and Xiaojuan Ma. 2024. Exploring Scaffolding Techniques for Agent-Administered Brief Cognitive Screening in Hospital Settings. In Companion Publication of the 2024 ACM Designing Interactive Systems Conference (DIS '24 Companion). Association for Computing Machinery, New York, NY, USA, 185-189. https://doi.org/10.1145/3656156.3663697",
         "DIS24-Scaffolding",
         "https://dingdong-liu.github.io/files/DIS24-Scaffolding.pdf",
         "https://dingdong-liu.github.io/files/DIS24_Poster_Large.pdf"
        ],
        [
         "1",
         "19/4/2023",
         "CoArgue : Fostering Lurkers' Contribution to Collective Arguments in Community-based QA Platforms",
         "CHI' 23",
         "This research investigates obstacles hindering lurkers from contributing to collective arguments in Community-Based Question Answering (CQA) platforms, leading to the development of CoArgue, a tool designed to enhance lurkers' motivation and ability to participate in discussions by extracting and summarizing augmentative elements from question threads, resulting in a more engaging and productive experience compared to a Quora-like baseline, as demonstrated in a within-subject study involving 24 participants.",
         "Chengzhong Liu, Shixu Zhou, Dingdong Liu, Junze Li, Zeyu Huang, and Xiaojuan Ma. 2023. CoArgue_: Fostering Lurkers' Contribution to Collective Arguments in Community-based QA Platforms. In Proceedings of the 2023 CHI Conference on Human Factors in Computing Systems (CHI '23). Association for Computing Machinery, New York, NY, USA, Article 271, 1-17. https://doi.org/10.1145/3544548.3580932",
         "CHI23-CoArgue",
         "https://dl.acm.org/doi/10.1145/3544548.3580932",
         null
        ],
        [
         "2",
         "13/6/2022",
         "Exploring the Effects of Self-Mockery to Improve Task-Oriented Chatbot's Social Intelligence",
         "DIS' 22",
         "This study explores the impact of self-mockery humor on a customer service chatbot's Social Intelligence (SI) by proposing a pipeline for incorporating situated self-mockery in different interaction stages. Through a within-subject experiment involving 28 participants, the self-mockery chatbot was found to be significantly funnier, more satisfactory, and to perform better in certain aspects of SI compared to a chatbot without self-mockery utterances. The study also discusses individual factors influencing the perceived helpfulness of self-mockery on SI and provides design considerations based on the findings.",
         "Chengzhong Liu, Shixu Zhou, Yuanhao Zhang, Dingdong Liu, Zhenhui Peng, and Xiaojuan Ma. 2022. Exploring the Effects of Self-Mockery to Improve Task-Oriented Chatbot's Social Intelligence. In Proceedings of the 2022 ACM Designing Interactive Systems Conference (DIS '22). Association for Computing Machinery, New York, NY, USA, 1315-1329. https://doi.org/10.1145/3532106.3533461",
         "DIS22-Self-Mockery",
         "https://dl.acm.org/doi/10.1145/3532106.3533461",
         null
        ],
        [
         "3",
         "22/11/2022",
         "PlanHelper: Supporting Activity Plan Construction with Answer Posts in Community-based QA Platforms",
         "CSCW '22",
         "This study addresses challenges in using answer posts from Community-based Question Answering (CQA) platforms for constructing Activity Plans (AP). By proposing an answer-post processing pipeline and developing PlanHelper, users were found to be significantly more satisfied with informational support and more engaged when creating AP compared to a Quora-like baseline in a within-subject study involving 24 participants. The research also includes an analysis of user behaviors with PlanHelper and provides design considerations for similar supporting tools.",
         "Chengzhong Liu, Zeyu Huang, Dingdong Liu, Shixu Zhou, Zhenhui Peng, and Xiaojuan Ma. 2022. PlanHelper: Supporting Activity Plan Construction with Answer Posts in Community-based QA Platforms. Proc. ACM Hum.-Comput. Interact. 6, CSCW2, Article 454 (November 2022), 26 pages. https://doi.org/10.1145/3555555",
         "CSCW22-PlanHelper",
         "https://dl.acm.org/doi/10.1145/3555555",
         null
        ],
        [
         "4",
         "16/7/2024",
         "A Humanoid Robot Dialogue System Architecture Targeting Patient Interview Tasks",
         "ROMAN '24",
         "The project focuses on enhancing humanoid robots' performance in conducting patient interviews by developing a dialogue system architecture. Humanoid robots offer a unique advantage in utilizing verbal and behavioral cues during interviews. However, the human-like appearance can create expectations of human-level performance, leading to interaction quality degradation if not met. The project introduces a dialogue system architecture that includes a nested inner real-time control loop to enhance the robot's responsiveness based on the concept of \"stance.\" This architecture also expands the dialogue state to monitor task progress and human engagement. Experiments with the proposed architecture demonstrate improved performance in terms of response timeliness and user impressions during patient interviews.",
         "Yifan SHEN*, Dingdong Liu, Yejin Bang, Ho Shu Chan, Rita Frieske, Hoo Choun CHUNG, Jay Patrick Monton Nieles, Tianjia ZHANG, Trung Kien Pham, Wai Yi Rosita CHENG, YINI FANG, Qifeng Chen, Pascale FUNG, Xiaojuan Ma, Bertram Emil Shi",
         "ROMAN24-DialogueArchitecture",
         "https://dingdong-liu.github.io/files/ROMAN24-DialogueArchitecture.pdf",
         null
        ],
        [
         "5",
         "29/4/2025",
         "InsightBridge: Enhancing Empathizing with Users through Real-Time Information Synthesis and Visual Communication",
         "CHI' 25",
         "This project introduces InsightBridge, an AI-assisted tool that supports researchers during early-stage user interviews by automatically synthesizing conversation data into empathy maps. The system enables researchers to generate visual abstracts representing key information, which can be verified with users in real-time to refine understanding. Evaluation through a within-subject study (N=32) demonstrated that InsightBridge enhances note-taking efficiency, improves mutual understanding between researchers and users, and helps uncover overlooked details through visual-based verification discussions.",
         "Junze Li, Yue Zhang, Chengbo Zheng, Dingdong Liu, Zeyu Huang, and Xiaojuan Ma. 2025. InsightBridge: Enhancing Empathizing with Users through Real-Time Information Synthesis and Visual Communication. In Proceedings of the 2025 CHI Conference on Human Factors in Computing Systems (CHI '25). Association for Computing Machinery, New York, NY, USA, Article 167, 1–15. https://doi.org/10.1145/3706598.3713640",
         "CHI25-InsightBridge",
         "https://dl.acm.org/doi/10.1145/3706598.3713640",
         null
        ],
        [
         "6",
         "30/4/2025",
         "Scaffolded Turns and Logical Conversations: Designing Humanized LLM-Powered Conversational Agents for Hospital Admission Interviews",
         "CHI' 25",
         "This project develops a more humanized LLM-powered conversational agent for hospital admission interviews that addresses the challenges of nurse shortages and time constraints. The system implements clinician-derived communication strategies through dynamic topic management with graph-based conversation flows and context-aware scaffolding using few-shot prompt tuning. Technical evaluation showed performance comparable to or exceeding human-written ground truth while outperforming prompt-engineered baselines, and a between-subject study (N=44) demonstrated significant improvements in user experience and data collection accuracy compared to existing solutions. The work contributes a framework for translating clinician expertise into algorithmic strategies for medical conversational agents, along with insights for balancing efficiency and empathy in healthcare interactions.",
         "Dingdong Liu, Yujing Zhang, Bolin Zhao, Shuai Ma, Chuhan Shi, and Xiaojuan Ma. 2025. Scaffolded Turns and Logical Conversations: Designing Humanized LLM-Powered Conversational Agents for Hospital Admission Interviews. In Proceedings of the 2025 CHI Conference on Human Factors in Computing Systems (CHI '25). Association for Computing Machinery, New York, NY, USA, Article 643, 1–23. https://doi.org/10.1145/3706598.3714196",
         "CHI25-PAF",
         "https://dl.acm.org/doi/10.1145/3706598.3714196",
         null
        ],
        [
         "7",
         "26/8/2025",
         "Dynamic Prompting Improves Turn-taking in Embodied Spoken Dialogue Systems",
         "ROMAN' 25",
         "A humanoid-robot SDS improves turn-taking by dynamically adjusting prompts to an audio LLM based on real-time floor perception (who’s speaking/listening). The LLM’s output drives both speech and floor-state updates, letting the system signal its stance. In robot interviews, this dynamic prompting outperformed static prompts: more accurate floor transitions, better signaling, fewer interruptions, smoother dialogue",
         "Yifan Shen, Dingdong Liu, Xiaoyu Mo, Fugee Tsung, Xiaojuan Ma, Bertram E. Shi",
         "ROMAN25-TurnTaking",
         "https://dingdong-liu.github.io/files/ROMAN25-TurnTaking.pdf",
         null
        ]
       ],
       "shape": {
        "columns": 8,
        "rows": 8
       }
      },
      "text/html": [
       "<div>\n",
       "<style scoped>\n",
       "    .dataframe tbody tr th:only-of-type {\n",
       "        vertical-align: middle;\n",
       "    }\n",
       "\n",
       "    .dataframe tbody tr th {\n",
       "        vertical-align: top;\n",
       "    }\n",
       "\n",
       "    .dataframe thead th {\n",
       "        text-align: right;\n",
       "    }\n",
       "</style>\n",
       "<table border=\"1\" class=\"dataframe\">\n",
       "  <thead>\n",
       "    <tr style=\"text-align: right;\">\n",
       "      <th></th>\n",
       "      <th>pub_date</th>\n",
       "      <th>title</th>\n",
       "      <th>venue</th>\n",
       "      <th>excerpt</th>\n",
       "      <th>citation</th>\n",
       "      <th>url_slug</th>\n",
       "      <th>paper_url</th>\n",
       "      <th>slides_url</th>\n",
       "    </tr>\n",
       "  </thead>\n",
       "  <tbody>\n",
       "    <tr>\n",
       "      <th>0</th>\n",
       "      <td>1/7/2024</td>\n",
       "      <td>Exploring Scaffolding Techniques for Agent-Adm...</td>\n",
       "      <td>DIS '24 Companion</td>\n",
       "      <td>This study explores effective scaffolding stra...</td>\n",
       "      <td>Dingdong Liu, Sensen Gao, Zixin Chen, Yifan Sh...</td>\n",
       "      <td>DIS24-Scaffolding</td>\n",
       "      <td>https://dingdong-liu.github.io/files/DIS24-Sca...</td>\n",
       "      <td>https://dingdong-liu.github.io/files/DIS24_Pos...</td>\n",
       "    </tr>\n",
       "    <tr>\n",
       "      <th>1</th>\n",
       "      <td>19/4/2023</td>\n",
       "      <td>CoArgue : Fostering Lurkers' Contribution to C...</td>\n",
       "      <td>CHI' 23</td>\n",
       "      <td>This research investigates obstacles hindering...</td>\n",
       "      <td>Chengzhong Liu, Shixu Zhou, Dingdong Liu, Junz...</td>\n",
       "      <td>CHI23-CoArgue</td>\n",
       "      <td>https://dl.acm.org/doi/10.1145/3544548.3580932</td>\n",
       "      <td>NaN</td>\n",
       "    </tr>\n",
       "    <tr>\n",
       "      <th>2</th>\n",
       "      <td>13/6/2022</td>\n",
       "      <td>Exploring the Effects of Self-Mockery to Impro...</td>\n",
       "      <td>DIS' 22</td>\n",
       "      <td>This study explores the impact of self-mockery...</td>\n",
       "      <td>Chengzhong Liu, Shixu Zhou, Yuanhao Zhang, Din...</td>\n",
       "      <td>DIS22-Self-Mockery</td>\n",
       "      <td>https://dl.acm.org/doi/10.1145/3532106.3533461</td>\n",
       "      <td>NaN</td>\n",
       "    </tr>\n",
       "    <tr>\n",
       "      <th>3</th>\n",
       "      <td>22/11/2022</td>\n",
       "      <td>PlanHelper: Supporting Activity Plan Construct...</td>\n",
       "      <td>CSCW '22</td>\n",
       "      <td>This study addresses challenges in using answe...</td>\n",
       "      <td>Chengzhong Liu, Zeyu Huang, Dingdong Liu, Shix...</td>\n",
       "      <td>CSCW22-PlanHelper</td>\n",
       "      <td>https://dl.acm.org/doi/10.1145/3555555</td>\n",
       "      <td>NaN</td>\n",
       "    </tr>\n",
       "    <tr>\n",
       "      <th>4</th>\n",
       "      <td>16/7/2024</td>\n",
       "      <td>A Humanoid Robot Dialogue System Architecture ...</td>\n",
       "      <td>ROMAN '24</td>\n",
       "      <td>The project focuses on enhancing humanoid robo...</td>\n",
       "      <td>Yifan SHEN*, Dingdong Liu, Yejin Bang, Ho Shu ...</td>\n",
       "      <td>ROMAN24-DialogueArchitecture</td>\n",
       "      <td>https://dingdong-liu.github.io/files/ROMAN24-D...</td>\n",
       "      <td>NaN</td>\n",
       "    </tr>\n",
       "    <tr>\n",
       "      <th>5</th>\n",
       "      <td>29/4/2025</td>\n",
       "      <td>InsightBridge: Enhancing Empathizing with User...</td>\n",
       "      <td>CHI' 25</td>\n",
       "      <td>This project introduces InsightBridge, an AI-a...</td>\n",
       "      <td>Junze Li, Yue Zhang, Chengbo Zheng, Dingdong L...</td>\n",
       "      <td>CHI25-InsightBridge</td>\n",
       "      <td>https://dl.acm.org/doi/10.1145/3706598.3713640</td>\n",
       "      <td>NaN</td>\n",
       "    </tr>\n",
       "    <tr>\n",
       "      <th>6</th>\n",
       "      <td>30/4/2025</td>\n",
       "      <td>Scaffolded Turns and Logical Conversations: De...</td>\n",
       "      <td>CHI' 25</td>\n",
       "      <td>This project develops a more humanized LLM-pow...</td>\n",
       "      <td>Dingdong Liu, Yujing Zhang, Bolin Zhao, Shuai ...</td>\n",
       "      <td>CHI25-PAF</td>\n",
       "      <td>https://dl.acm.org/doi/10.1145/3706598.3714196</td>\n",
       "      <td>NaN</td>\n",
       "    </tr>\n",
       "    <tr>\n",
       "      <th>7</th>\n",
       "      <td>26/8/2025</td>\n",
       "      <td>Dynamic Prompting Improves Turn-taking in Embo...</td>\n",
       "      <td>ROMAN' 25</td>\n",
       "      <td>A humanoid-robot SDS improves turn-taking by d...</td>\n",
       "      <td>Yifan Shen, Dingdong Liu, Xiaoyu Mo, Fugee Tsu...</td>\n",
       "      <td>ROMAN25-TurnTaking</td>\n",
       "      <td>https://dingdong-liu.github.io/files/ROMAN25-T...</td>\n",
       "      <td>NaN</td>\n",
       "    </tr>\n",
       "  </tbody>\n",
       "</table>\n",
       "</div>"
      ],
      "text/plain": [
       "     pub_date                                              title  \\\n",
       "0    1/7/2024  Exploring Scaffolding Techniques for Agent-Adm...   \n",
       "1   19/4/2023  CoArgue : Fostering Lurkers' Contribution to C...   \n",
       "2   13/6/2022  Exploring the Effects of Self-Mockery to Impro...   \n",
       "3  22/11/2022  PlanHelper: Supporting Activity Plan Construct...   \n",
       "4   16/7/2024  A Humanoid Robot Dialogue System Architecture ...   \n",
       "5   29/4/2025  InsightBridge: Enhancing Empathizing with User...   \n",
       "6   30/4/2025  Scaffolded Turns and Logical Conversations: De...   \n",
       "7   26/8/2025  Dynamic Prompting Improves Turn-taking in Embo...   \n",
       "\n",
       "               venue                                            excerpt  \\\n",
       "0  DIS '24 Companion  This study explores effective scaffolding stra...   \n",
       "1            CHI' 23  This research investigates obstacles hindering...   \n",
       "2            DIS' 22  This study explores the impact of self-mockery...   \n",
       "3           CSCW '22  This study addresses challenges in using answe...   \n",
       "4          ROMAN '24  The project focuses on enhancing humanoid robo...   \n",
       "5            CHI' 25  This project introduces InsightBridge, an AI-a...   \n",
       "6            CHI' 25  This project develops a more humanized LLM-pow...   \n",
       "7          ROMAN' 25  A humanoid-robot SDS improves turn-taking by d...   \n",
       "\n",
       "                                            citation  \\\n",
       "0  Dingdong Liu, Sensen Gao, Zixin Chen, Yifan Sh...   \n",
       "1  Chengzhong Liu, Shixu Zhou, Dingdong Liu, Junz...   \n",
       "2  Chengzhong Liu, Shixu Zhou, Yuanhao Zhang, Din...   \n",
       "3  Chengzhong Liu, Zeyu Huang, Dingdong Liu, Shix...   \n",
       "4  Yifan SHEN*, Dingdong Liu, Yejin Bang, Ho Shu ...   \n",
       "5  Junze Li, Yue Zhang, Chengbo Zheng, Dingdong L...   \n",
       "6  Dingdong Liu, Yujing Zhang, Bolin Zhao, Shuai ...   \n",
       "7  Yifan Shen, Dingdong Liu, Xiaoyu Mo, Fugee Tsu...   \n",
       "\n",
       "                       url_slug  \\\n",
       "0             DIS24-Scaffolding   \n",
       "1                 CHI23-CoArgue   \n",
       "2            DIS22-Self-Mockery   \n",
       "3             CSCW22-PlanHelper   \n",
       "4  ROMAN24-DialogueArchitecture   \n",
       "5           CHI25-InsightBridge   \n",
       "6                     CHI25-PAF   \n",
       "7            ROMAN25-TurnTaking   \n",
       "\n",
       "                                           paper_url  \\\n",
       "0  https://dingdong-liu.github.io/files/DIS24-Sca...   \n",
       "1     https://dl.acm.org/doi/10.1145/3544548.3580932   \n",
       "2     https://dl.acm.org/doi/10.1145/3532106.3533461   \n",
       "3             https://dl.acm.org/doi/10.1145/3555555   \n",
       "4  https://dingdong-liu.github.io/files/ROMAN24-D...   \n",
       "5     https://dl.acm.org/doi/10.1145/3706598.3713640   \n",
       "6     https://dl.acm.org/doi/10.1145/3706598.3714196   \n",
       "7  https://dingdong-liu.github.io/files/ROMAN25-T...   \n",
       "\n",
       "                                          slides_url  \n",
       "0  https://dingdong-liu.github.io/files/DIS24_Pos...  \n",
       "1                                                NaN  \n",
       "2                                                NaN  \n",
       "3                                                NaN  \n",
       "4                                                NaN  \n",
       "5                                                NaN  \n",
       "6                                                NaN  \n",
       "7                                                NaN  "
      ]
     },
     "execution_count": 3,
     "metadata": {},
     "output_type": "execute_result"
    }
   ],
   "source": [
    "publications = pd.read_csv(\"publications.tsv\", sep=\"\\t\", header=0)\n",
    "publications\n"
   ]
  },
  {
   "cell_type": "markdown",
   "metadata": {},
   "source": [
    "## Escape special characters\n",
    "\n",
    "YAML is very picky about how it takes a valid string, so we are replacing single and double quotes (and ampersands) with their HTML encoded equivilents. This makes them look not so readable in raw format, but they are parsed and rendered nicely."
   ]
  },
  {
   "cell_type": "code",
   "execution_count": 4,
   "metadata": {
    "collapsed": true,
    "deletable": true,
    "editable": true
   },
   "outputs": [],
   "source": [
    "html_escape_table = {\n",
    "    \"&\": \"&amp;\",\n",
    "    '\"': \"&quot;\",\n",
    "    \"'\": \"&apos;\"\n",
    "    }\n",
    "\n",
    "def html_escape(text):\n",
    "    \"\"\"Produce entities within text.\"\"\"\n",
    "    return \"\".join(html_escape_table.get(c,c) for c in text)"
   ]
  },
  {
   "cell_type": "markdown",
   "metadata": {},
   "source": [
    "## Creating the markdown files\n",
    "\n",
    "This is where the heavy lifting is done. This loops through all the rows in the TSV dataframe, then starts to concatentate a big string (```md```) that contains the markdown for each type. It does the YAML metadata first, then does the description for the individual page."
   ]
  },
  {
   "cell_type": "code",
   "execution_count": 5,
   "metadata": {
    "collapsed": false,
    "deletable": true,
    "editable": true
   },
   "outputs": [],
   "source": [
    "import os\n",
    "for row, item in publications.iterrows():\n",
    "    \n",
    "    md_filename = str(item.pub_date) + \"-\" + item.url_slug + \".md\"\n",
    "    html_filename = str(item.pub_date) + \"-\" + item.url_slug\n",
    "    year = item.pub_date[:4]\n",
    "    \n",
    "    ## YAML variables\n",
    "    \n",
    "    md = \"---\\ntitle: \\\"\"   + item.title + '\"\\n'\n",
    "    \n",
    "    md += \"\"\"collection: publications\"\"\"\n",
    "    \n",
    "    md += \"\"\"\\npermalink: /publication/\"\"\" + html_filename\n",
    "    \n",
    "    if len(str(item.excerpt)) > 5:\n",
    "        md += \"\\nexcerpt: '\" + html_escape(item.excerpt) + \"'\"\n",
    "    \n",
    "    md += \"\\ndate: \" + str(item.pub_date) \n",
    "    \n",
    "    md += \"\\nvenue: '\" + html_escape(item.venue) + \"'\"\n",
    "    \n",
    "    if len(str(item.slides_url)) > 5:\n",
    "        md += \"\\nslidesurl: '\" + item.slides_url + \"'\"\n",
    "\n",
    "    if len(str(item.paper_url)) > 5:\n",
    "        md += \"\\npaperurl: '\" + item.paper_url + \"'\"\n",
    "    \n",
    "    md += \"\\ncitation: '\" + html_escape(item.citation) + \"'\"\n",
    "    \n",
    "    md += \"\\n---\"\n",
    "    \n",
    "    ## Markdown description for individual page\n",
    "        \n",
    "    if len(str(item.excerpt)) > 5:\n",
    "        md += \"\\n\" + html_escape(item.excerpt) + \"\\n\"\n",
    "\n",
    "    if len(str(item.slides_url)) > 5:\n",
    "        md += \"\\n[Download slides here](\" + item.slides_url + \")\\n\" \n",
    "\n",
    "    if len(str(item.paper_url)) > 5:\n",
    "        md += \"\\n[Download paper here](\" + item.paper_url + \")\\n\" \n",
    "        \n",
    "    md += \"\\nRecommended citation: \" + item.citation\n",
    "    \n",
    "    md_filename = os.path.basename(md_filename)\n",
    "       \n",
    "    with open(\"../_publications/\" + md_filename, 'w') as f:\n",
    "        f.write(md)"
   ]
  },
  {
   "cell_type": "markdown",
   "metadata": {},
   "source": [
    "These files are in the publications directory, one directory below where we're working from."
   ]
  },
  {
   "cell_type": "code",
   "execution_count": 6,
   "metadata": {
    "collapsed": false,
    "deletable": true,
    "editable": true
   },
   "outputs": [
    {
     "name": "stdout",
     "output_type": "stream",
     "text": [
      "2022-CSCW22-PlanHelper.md            2024-ROMAN24-DialogueArchitecture.md\n",
      "2022-DIS22-Self-Mockery.md           2025-CHI25-InsightBridge.md\n",
      "2023-CHI23-CoArgue.md                2025-CHI25-PAF.md\n",
      "2024-DIS24-Scaffolding.md            2025-ROMAN25-TurnTaking.md\n"
     ]
    }
   ],
   "source": [
    "!ls ../_publications/"
   ]
  },
  {
   "cell_type": "code",
   "execution_count": 7,
   "metadata": {
    "collapsed": false,
    "deletable": true,
    "editable": true
   },
   "outputs": [
    {
     "name": "stdout",
     "output_type": "stream",
     "text": [
      "cat: ../_publications/2009-10-01-paper-title-number-1.md: No such file or directory\n"
     ]
    }
   ],
   "source": [
    "!cat ../_publications/2009-10-01-paper-title-number-1.md"
   ]
  },
  {
   "cell_type": "code",
   "execution_count": null,
   "metadata": {
    "collapsed": true,
    "deletable": true,
    "editable": true
   },
   "outputs": [],
   "source": []
  },
  {
   "cell_type": "code",
   "execution_count": null,
   "metadata": {},
   "outputs": [],
   "source": []
  }
 ],
 "metadata": {
  "kernelspec": {
   "display_name": "venv",
   "language": "python",
   "name": "python3"
  },
  "language_info": {
   "codemirror_mode": {
    "name": "ipython",
    "version": 3
   },
   "file_extension": ".py",
   "mimetype": "text/x-python",
   "name": "python",
   "nbconvert_exporter": "python",
   "pygments_lexer": "ipython3",
   "version": "3.12.11"
  }
 },
 "nbformat": 4,
 "nbformat_minor": 0
}
